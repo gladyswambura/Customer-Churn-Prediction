{
 "cells": [
  {
   "cell_type": "code",
   "execution_count": null,
   "metadata": {},
   "outputs": [],
   "source": [
    "# this fileis used for data cleaning and preprocessing tasks\n",
    "import pandas as pd\n",
    "\n",
    "# Load the dataset\n",
    "df = pd.read_csv('data/telecom_customer_churn.csv')\n",
    "\n",
    "# Handle missing values (replaced with mean for simplicity)\n",
    "mean_age = df['Age'].mean()\n",
    "df['Age'].fillna(mean_age, inplace=True)\n",
    "\n",
    "# Encode categorical variables\n",
    "df = pd.get_dummies(df, columns=['Gender', 'Married', 'Internet Service'], drop_first=True)\n",
    "\n",
    "# Feature scaling or normalization\n",
    "from sklearn.preprocessing import StandardScaler\n",
    "\n",
    "scaler = StandardScaler()\n",
    "df[['Age', 'Avg Monthly Long Distance Charges']] = scaler.fit_transform(df[['Age', 'Avg Monthly Long Distance Charges']])\n",
    "\n",
    "# Saving the preprocessed dataset\n",
    "df.to_csv('data/preprocessed_dataset.csv', index=False)\n"
   ]
  }
 ],
 "metadata": {
  "language_info": {
   "name": "python"
  }
 },
 "nbformat": 4,
 "nbformat_minor": 2
}
